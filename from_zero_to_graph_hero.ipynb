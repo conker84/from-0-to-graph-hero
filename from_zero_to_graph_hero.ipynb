{
  "cells": [
    {
      "cell_type": "markdown",
      "metadata": {
        "id": "view-in-github",
        "colab_type": "text"
      },
      "source": [
        "<a href=\"https://colab.research.google.com/github/conker84/from-0-to-graph-hero/blob/main/from_zero_to_graph_hero.ipynb\" target=\"_parent\"><img src=\"https://colab.research.google.com/assets/colab-badge.svg\" alt=\"Open In Colab\"/></a>"
      ]
    },
    {
      "cell_type": "markdown",
      "source": [
        "# From zero to a graph hero\n",
        "\n",
        "In this talk about why graphs are important, and how we can create a simple recommendation engine starting from few CSV files."
      ],
      "metadata": {
        "id": "s4rhYYo-qylU"
      }
    },
    {
      "cell_type": "markdown",
      "source": [
        "# Prerequisites \n",
        "\n",
        "Please install all the required dependencies before executing the notebook"
      ],
      "metadata": {
        "id": "Ns-kIYTj6XF4"
      }
    },
    {
      "cell_type": "code",
      "source": [
        "from google.colab import output\n",
        "output.enable_custom_widget_manager()"
      ],
      "metadata": {
        "id": "9FkLuKL5EUUr"
      },
      "execution_count": null,
      "outputs": []
    },
    {
      "cell_type": "code",
      "source": [
        "!pip install neo4j\n",
        "!pip install ipycytoscape\n",
        "!pip install networkx"
      ],
      "metadata": {
        "id": "uRsje4-hBcIa"
      },
      "execution_count": null,
      "outputs": []
    },
    {
      "cell_type": "code",
      "source": [
        "from getpass import getpass\n",
        "from neo4j import GraphDatabase\n",
        "\n",
        "neo4j_user = input('Neo4j user: ')\n",
        "neo4j_password = getpass('Neo4j password: ')\n",
        "neo4j_uri = input('Neo4j uri: ')\n",
        "\n",
        "neo4j_driver = GraphDatabase.driver(neo4j_uri, auth=(neo4j_user, neo4j_password))"
      ],
      "metadata": {
        "id": "BaKy3cPVCNsH"
      },
      "execution_count": null,
      "outputs": []
    },
    {
      "cell_type": "code",
      "source": [
        "import pandas as pd\n",
        "import networkx as nx\n",
        "from IPython.core.magic import (register_line_magic, register_cell_magic)\n",
        "import ipycytoscape\n",
        "from neo4j.graph import Graph\n",
        "\n",
        "colors = {\n",
        "  ':Customer': '#fffb00',\n",
        "  ':Order': '#00f900',\n",
        "  ':Product': '#ff2600',\n",
        "  ':Category': '#53d5fd'\n",
        "}\n",
        "captions =  {\n",
        "  ':Customer': 'companyName',\n",
        "  ':Order': 'shipName',\n",
        "  ':Product': 'productName',\n",
        "  ':Category': 'categoryName'\n",
        "}\n",
        "node_centered = {\n",
        "  'selector': 'node',\n",
        "  'style': {\n",
        "    'font-size': '10',\n",
        "    'label': 'data(title)',\n",
        "    'height': '60',\n",
        "    'width': '60',\n",
        "    'text-max-width': '60',\n",
        "    'text-wrap': 'wrap',\n",
        "    'text-valign': 'center',\n",
        "    'background-color': 'data(color)',\n",
        "    'background-opacity': 0.6,\n",
        "    'border-width': 3,\n",
        "    'border-color': '#D3D3D3'\n",
        "  }\n",
        "}\n",
        "edge_directed_named = {\n",
        "  'selector': 'edge',\n",
        "  'style': {\n",
        "    'font-size': '8',\n",
        "    'label': 'data(label)',\n",
        "    'line-color': '#D3D3D3',\n",
        "    'text-rotation': 'autorotate',\n",
        "    'target-arrow-shape': 'triangle',\n",
        "    'target-arrow-color': '#D3D3D3',\n",
        "    'curve-style': 'bezier',\n",
        "    'text-background-color': \"#FCFCFC\",\n",
        "    'text-background-opacity': 0.8,\n",
        "    'text-background-shape': 'rectangle',\n",
        "    'width': 'data(weight)'\n",
        "  }\n",
        "}\n",
        "my_style = [node_centered, edge_directed_named]\n",
        "\n",
        "\n",
        "def to_nextworkx(graph):\n",
        "  networkx_graph = nx.MultiDiGraph()\n",
        "\n",
        "  def add_node(node):\n",
        "    label = ':' + ':'.join(node.labels)\n",
        "    props = dict(node.items())\n",
        "    color = colors[label]\n",
        "    networkx_graph.add_node(node.id, label=label, color=color, properties=props, title=label, tooltip=str(props))\n",
        "\n",
        "\n",
        "  def add_edge(edge):\n",
        "    edge_type = edge.type\n",
        "    props = dict(edge.items())\n",
        "    networkx_graph.add_edge(edge.start_node.id, edge.end_node.id, weight=2, label=edge.type, tooltip=str(props))\n",
        "      \n",
        "  for node in graph._nodes.values():\n",
        "    add_node(node)\n",
        "\n",
        "  for rel in graph._relationships.values():\n",
        "    add_edge(rel)\n",
        "\n",
        "  return networkx_graph\n",
        "\n",
        "\n",
        "def display_graph(networkx_graph, config={'layout': 'dagre', 'padding': 0, 'nodeSpacing': 10, 'edgeLengthVal': 10, 'animate': True, 'randomize': True}):\n",
        "    w = ipycytoscape.CytoscapeWidget()\n",
        "    w.graph.add_graph_from_networkx(networkx_graph)\n",
        "    w.set_style(my_style)\n",
        "    w.set_layout(name=config['layout'],\n",
        "                 padding=config['padding'],\n",
        "                 nodeSpacing=config['nodeSpacing'],\n",
        "                 edgeLengthVal=config['edgeLengthVal'],\n",
        "                 animate=config['animate'],\n",
        "                 randomize=config['randomize'],\n",
        "                 maxSimulations=1500)\n",
        "    w.set_tooltip_source('tooltip')\n",
        "    display(w)\n",
        "\n",
        "\n",
        "def run_query(query):\n",
        "  # we return only the last one\n",
        "  with neo4j_driver.session() as session:\n",
        "    result = None\n",
        "    for sub_query in query.split(';'):\n",
        "      sub_query = sub_query.strip()\n",
        "      if sub_query != \"\":\n",
        "        result = session.run(sub_query)\n",
        "    graph = result.graph()\n",
        "    if len(graph._nodes) > 0:\n",
        "      return display_graph(to_nextworkx(graph))\n",
        "    else:\n",
        "      return result.to_df()\n",
        "\n",
        "\n",
        "@register_cell_magic\n",
        "def cypher(line, cell):\n",
        "  return run_query(cell)"
      ],
      "metadata": {
        "id": "41IZ0aSj8IQQ"
      },
      "execution_count": null,
      "outputs": []
    },
    {
      "cell_type": "markdown",
      "source": [
        "# Why are graphs important?\n",
        "\n",
        "We are surrounded by systems that are hopelessly complicated. Consider for example the society that requires cooperation between billions of individuals, or communications infrastructures that integrate billions of cell phones with computers and satellites.\n",
        "\n",
        "> \"I think the next century will be the century of complexity.\" - Stephen Hawking\n",
        "\n",
        "\n",
        "These systems are collectively called complex systems, capturing the fact that it is difficult to derive their collective behavior from a knowledge of the system’s components.\n",
        "\n",
        "Indeed, behind each complex system there is an intricate network that encodes the interactions between the system’s components:\n",
        "\n",
        "* The network encoding the interactions between genes, proteins, and metabolites integrates these components into live cells. The very existence of this cellular network is a prerequisite of life.\n",
        "* The wiring diagram capturing the connections between neurons, called the neural network, holds the key to our understanding of how the brain functions and to our consciousness.\n",
        "* The sum of all professional, friendship, and family ties, often called the social network, is the fabric of the society and determines the spread of knowledge, behavior and resources.\n",
        "* Communication networks, describing which communication devices interact with each other, through wired internet connections or wireless links, are at the heart of the modern communication system.\n",
        "* The power grid, a network of generators and transmission lines, supplies with energy virtually all modern technology.\n",
        "* Trade networks maintain our ability to exchange goods and services, being responsible for the material prosperity that the world has enjoyed since WWII\n",
        "\n",
        "<img src=\"https://miro.medium.com/max/1400/1*K6avHhlmtIE0dnGj7whLag.jpeg\" alt=\"Rail Network in Europe by naturalearthdata.com\">\n",
        "\n",
        "*Rail Network in Europe by naturalearthdata.com*\n",
        "\n",
        "If we want to understand a complex system, we first need to know how its components interact with each other. In other words we need a map of its wiring diagram, and that's when graph (network) came in.\n",
        "\n",
        "The network representation offers a common language to study systems that may differ greatly in nature, appearance, or scope.\n",
        "\n",
        "A graph $G$ is a structure $G=<V,E>$ where:\n",
        "* $V$ are the vertexes or nodes; to each node can be assigned a label (type) and a set of properties as key/value bindings;\n",
        "* $E$ are the edges; each `edge` has a `source` and `target` node and have a type and a set of properties as key/value bindings.\n",
        "\n",
        "<img src=\"https://raw.githubusercontent.com/conker84/from-0-to-graph-hero/main/images/person-follows-person.png\" >"
      ],
      "metadata": {
        "id": "BZ1xATyVMvag"
      }
    },
    {
      "cell_type": "markdown",
      "source": [
        "# Why do we need a Graph Database?\n",
        "\n",
        "Relational database are well suited for a lot of use case, but not where your need is to traverse your data, but why?\n",
        "\n",
        "## JOINs are expensive\n",
        "\n",
        "Without diving a lot into the problem is known that when you put in join two or more tables, the cost of each join is rough $O(log(n))$ and this means that the performances are proportionally getting worse when the table count gets higher.\n",
        "\n",
        "Graph databases instead are designed leveraging a structure call [Adiacency Matrix](https://en.wikipedia.org/wiki/Adjacency_matrix) that are specifically designed to reduce the cost of traverse a relationship (given a start node) to $O(1)$\n",
        "\n",
        "<table>\n",
        "  <thead>\n",
        "    <th>Graph</th>\n",
        "    <th>Matrix representation</th>\n",
        "  </thead>\n",
        "  <tbody>\n",
        "    <td>\n",
        "      <img src=\"https://github.com/conker84/from-0-to-graph-hero/blob/main/images/adiacency-graph.png?raw=true\" >\n",
        "    </td>\n",
        "    <td>\n",
        "      <img src=\"https://github.com/conker84/from-0-to-graph-hero/blob/main/images/adiacency-matrix.png?raw=true\" >\n",
        "    </td>\n",
        "  </tbody>\n",
        "</table>"
      ],
      "metadata": {
        "id": "AjBIBuX6WrIs"
      }
    },
    {
      "cell_type": "markdown",
      "source": [
        "## How to query a Graph?\n",
        "\n",
        "Given the definition of graph above how can you query it?\n",
        "\n",
        "[openCypher](https://opencypher.org/) (Cypher) is a language specification built to query graphs. Think about it as SQL but for Graphs!\n",
        "\n",
        "\n"
      ],
      "metadata": {
        "id": "kU-f-qYzBoB5"
      }
    },
    {
      "cell_type": "markdown",
      "source": [
        "### How does it work?\n",
        "\n",
        "Cypher has a very nice way in order to represent graphs, it leverages ASCII ART in order to do that, but how?\n",
        "\n",
        "#### Cypher and ASCII ART\n",
        "\n",
        "In Cypher:\n",
        "\n",
        "* `nodes` are represented as `()` and they can also contain identifiers `(person)`\n",
        "* `relationships` are represented as `-[]-`, they can have an identifier `-[FOLLOWS]-`, a direction `-[]->` or `<-[]-` and the must have a source and a target node `()-[]->()`\n",
        "\n",
        "Think about at this simple graph:\n",
        "\n",
        "<img src=\"https://github.com/conker84/from-0-to-graph-hero/blob/main/images/person-drives-car.png?raw=true\" >\n",
        "\n",
        "The Cypher representation of this is:\n",
        "\n",
        "`(p:Person)-[d:DRIVES]->(c:Car)`\n",
        "\n",
        "where:\n",
        "* `p` is the identifier of the source node which is of type `Person`\n",
        "* `c` is the identifier of the target node which is of type `Car`\n",
        "* `d` is the identifier of the relationship which type is `DRIVES`\n",
        "\n",
        "Given that than you can:\n",
        "\n",
        "* `CREATE` a graph entity\n",
        "* `MATCH` a graph entity\n",
        "* `MERGE` a graph entity; this one is a idempotent operation that first checks if the entity exists otherwise it creates it and return.\n",
        "\n",
        "```cypher\n",
        "MATCH path = (p:Person)-[d:DRIVES]->(c:Car)\n",
        "WHERE p.name = 'Andrea' AND p.surname = 'Santurbano'\n",
        "RETURN path\n",
        "```\n",
        "\n"
      ],
      "metadata": {
        "id": "5hEvLhIUCqmC"
      }
    },
    {
      "cell_type": "markdown",
      "source": [
        "# Dataset\n",
        "\n",
        "The Northwind database is an famous dataset containing purchase history that has been used to teach relational databases for years and was a great place to start.\n",
        "\n",
        "<img src=\"https://github.com/conker84/from-0-to-graph-hero/blob/main/images/northwind.gif?raw=true\" >\n",
        "\n",
        "It provides us with a rich dataset, but in this what we want to do is to use a subset of information in order to create a subgraph like this:\n",
        "\n",
        "<img src=\"https://github.com/conker84/from-0-to-graph-hero/blob/main/images/graph.png?raw=true\" />"
      ],
      "metadata": {
        "id": "TPvjmAB1Sw5W"
      }
    },
    {
      "cell_type": "code",
      "source": [
        "%%cypher\n",
        "// Let's create the constaints\n",
        "CREATE CONSTRAINT product_id IF NOT EXISTS FOR (p:Product) REQUIRE (p.id) IS UNIQUE;\n",
        "CREATE CONSTRAINT order_id IF NOT EXISTS FOR (o:Order) REQUIRE (o.id) IS UNIQUE;\n",
        "CREATE CONSTRAINT customer_id IF NOT EXISTS FOR (c:Customer) REQUIRE (c.id) IS UNIQUE;\n",
        "CREATE CONSTRAINT category_id IF NOT EXISTS FOR (c:Category) REQUIRE (c.id) IS UNIQUE;"
      ],
      "metadata": {
        "id": "KJUjYlhg8-Ki"
      },
      "execution_count": null,
      "outputs": []
    },
    {
      "cell_type": "code",
      "source": [
        "%%cypher\n",
        "// create the Customer nodes\n",
        "USING PERIODIC COMMIT 100\n",
        "LOAD CSV WITH HEADERS FROM \"https://raw.githubusercontent.com/conker84/from-0-to-graph-hero/main/data/customers.csv\" AS row\n",
        "CREATE (:Customer {id: row.customerID, companyName: row.companyName, fax: row.fax, phone: row.phone});\n",
        "\n",
        "// create the Order nodes\n",
        "USING PERIODIC COMMIT 100\n",
        "LOAD CSV WITH HEADERS FROM \"https://raw.githubusercontent.com/conker84/from-0-to-graph-hero/main/data/orders.csv\" AS row\n",
        "MERGE (o:Order {id: row.orderID}) ON CREATE SET o.shipName =  row.shipName;\n",
        "\n",
        "// create the Product nodes\n",
        "USING PERIODIC COMMIT 100\n",
        "LOAD CSV WITH HEADERS FROM \"https://raw.githubusercontent.com/conker84/from-0-to-graph-hero/main/data/products.csv\" AS row\n",
        "CREATE (:Product {productName: row.productName, id: row.productID, unitPrice: toFloat(row.UnitPrice)});\n",
        "\n",
        "// create the Category nodes\n",
        "USING PERIODIC COMMIT 100\n",
        "LOAD CSV WITH HEADERS FROM \"https://raw.githubusercontent.com/conker84/from-0-to-graph-hero/main/data/categories.csv\" AS row\n",
        "MERGE (c:Category {id: row.categoryID}) ON CREATE SET c.categoryName = row.categoryName, c.description = row.description;\n",
        "\n",
        "// create the PURCHASED relationships\n",
        "USING PERIODIC COMMIT 100\n",
        "LOAD CSV WITH HEADERS FROM \"https://raw.githubusercontent.com/conker84/from-0-to-graph-hero/main/data/orders.csv\" AS row\n",
        "MATCH (o:Order {id: row.orderID})\n",
        "MATCH (customer:Customer {id: row.customerID})\n",
        "MERGE (customer)-[:PURCHASED]->(o);\n",
        "\n",
        "// create the CONTAINS relationships\n",
        "USING PERIODIC COMMIT 100\n",
        "LOAD CSV WITH HEADERS FROM \"https://raw.githubusercontent.com/conker84/from-0-to-graph-hero/main/data/order-details.csv\" AS row\n",
        "MATCH (o:Order {id: row.orderID})\n",
        "MATCH (product:Product {id: row.productID})\n",
        "MERGE (o)-[pu:PRODUCT]->(product)\n",
        "ON CREATE SET pu.unitPrice = toFloat(row.unitPrice), pu.quantity = toFloat(row.quantity);\n",
        "\n",
        "// create the HAS relationships\n",
        "USING PERIODIC COMMIT 100\n",
        "LOAD CSV WITH HEADERS FROM \"https://raw.githubusercontent.com/conker84/from-0-to-graph-hero/main/data/products.csv\" AS row\n",
        "MATCH (product:Product {id: row.productID})\n",
        "MATCH (category:Category {id: row.categoryID})\n",
        "MERGE (product)-[:HAS]->(category);"
      ],
      "metadata": {
        "id": "tdhlCD3CTNLp"
      },
      "execution_count": null,
      "outputs": []
    },
    {
      "cell_type": "markdown",
      "source": [
        "## Check the graph model"
      ],
      "metadata": {
        "id": "4DquQ7BtP8mc"
      }
    },
    {
      "cell_type": "code",
      "source": [
        "%%cypher\n",
        "CALL apoc.meta.graph()"
      ],
      "metadata": {
        "id": "6CyW7gBLIA4p"
      },
      "execution_count": null,
      "outputs": []
    },
    {
      "cell_type": "markdown",
      "source": [
        "## Visualize a simple graph"
      ],
      "metadata": {
        "id": "SO9dRClfQCB6"
      }
    },
    {
      "cell_type": "code",
      "source": [
        "%%cypher\n",
        "match (c:Customer)-[r*..2]->(a)\n",
        "WHERE c.id = 'CHOPS' AND type(r) NOT IN ['SIMILAR', 'RATED'] \n",
        "return *"
      ],
      "metadata": {
        "id": "uidJhaqSAsc2"
      },
      "execution_count": null,
      "outputs": []
    },
    {
      "cell_type": "markdown",
      "source": [
        "# Let's build a recommendation engine\n",
        "\n",
        "Recommender Systems are a type of information filtering system that seek to generate meaningful recommendations to users for items they may be interested in."
      ],
      "metadata": {
        "id": "6i59SqGHQIfU"
      }
    },
    {
      "cell_type": "markdown",
      "source": [
        "## Popular Products\n",
        "\n",
        "To find the most popular products in the dataset, we can follow the path from `:Customer` to `:Product`\n"
      ],
      "metadata": {
        "id": "HMXHpnmXqylf"
      }
    },
    {
      "cell_type": "code",
      "execution_count": null,
      "metadata": {
        "id": "JJEhS5dAqylf"
      },
      "outputs": [],
      "source": [
        "%%cypher\n",
        "// get all the customers that purchased a product\n",
        "match (c:Customer)-[:PURCHASED]->(o:Order)-[:PRODUCT]->(p:Product)\n",
        "// return the company, the product and the number of times that ht bought it\n",
        "return c.companyName, p.productName, count(o) as orders\n",
        "order by orders desc\n",
        "limit 5"
      ]
    },
    {
      "cell_type": "markdown",
      "source": [
        "Nothing so fancy right? Let's do something more graph oriented."
      ],
      "metadata": {
        "id": "TUCMrkYMfcXZ"
      }
    },
    {
      "cell_type": "markdown",
      "source": [
        "## Content Based Recommendations\n",
        "\n",
        "The simplest recommendation we can make for a `:Customer` is a content based recommendation.\n",
        "Based on their previous purchases, can we recommend them anything that they haven't already bought?\n",
        "For every product our customer has purchased, let's see what other customers have also purchased.\n",
        "Each `:Product` is related to a `:Category`  so we can use this to further narrow down the list of products to recommend.\n",
        "\n",
        "**Does it sounds familiar?**\n",
        "\n",
        "<img src=\"https://github.com/conker84/from-0-to-graph-hero/blob/main/images/amazon-recommendations.png?raw=true\" >\n",
        "\n",
        "\n",
        "It's quite the same behind what Amazon shows you when you bought a problem and shows corralate products in the same category"
      ],
      "metadata": {
        "id": "Ryjrwvfbqylg"
      }
    },
    {
      "cell_type": "code",
      "execution_count": null,
      "metadata": {
        "id": "W7nOcaFSqylg"
      },
      "outputs": [],
      "source": [
        "%%cypher\n",
        "match (c:Customer)-[:PURCHASED]->(o:Order)-[:PRODUCT]->(p:Product)<-[:PRODUCT]-(o2:Order)-[:PRODUCT]->(p2:Product)-[:HAS]->(:Category)<-[:HAS]-(p)\n",
        "WHERE c.id = 'CHOPS' AND NOT( (c)-[:PURCHASED]->(:Order)-[:PRODUCT]->(p2) )\n",
        "return c.companyName, p.productName as has_purchased, p2.productName as has_also_purchased, count(DISTINCT o2) as occurrences\n",
        "order by occurrences desc\n",
        "limit 5"
      ]
    },
    {
      "cell_type": "markdown",
      "source": [
        "## Collaborative Filtering\n",
        "\n",
        "<img src=\"https://upload.wikimedia.org/wikipedia/commons/5/52/Collaborative_filtering.gif\" >\n",
        "\n",
        "Collaborative filtering (CF) is a technique used by recommender systems and it has two senses:\n",
        "\n",
        "* a narrow one: collaborative filtering is a method of making automatic predictions (filtering) about the interests of a user by collecting preferences or taste information from many users (collaborating);\n",
        "* a general one: collaborative filtering is the process of filtering for information or patterns using techniques involving collaboration among multiple agents, viewpoints, data sources, etc.\n",
        "\n",
        "To CF, we can use the k-NN (k-nearest neighbors) Algorithm. k-N works by grouping items into classifications based on their similarity to eachother. In our case, this could be ratings between two Customers for a Product.\n",
        "\n",
        "The first thing we need to do to make this model work is create some \"ratings relationships\". For now, let’s create a score somewhere between 0 and 1 for each product based on the number of times a customer has purchased a product."
      ],
      "metadata": {
        "id": "6csEBC9iqylg"
      }
    },
    {
      "cell_type": "code",
      "execution_count": null,
      "metadata": {
        "id": "CNcblXGmqylh"
      },
      "outputs": [],
      "source": [
        "%%cypher\n",
        "// create the RATED relationships\n",
        "MATCH (c:Customer)-[:PURCHASED]->(o:Order)-[:PRODUCT]->(p:Product)\n",
        "WITH c, count(p) as total\n",
        "MATCH (c)-[:PURCHASED]->(o:Order)-[:PRODUCT]->(p:Product)\n",
        "WITH c, total, p, toFloat(count(o)) as orders\n",
        "MERGE (c)-[rated:RATED]->(p) SET rated.rating = orders/total\n",
        "WITH c.companyName as company, p.productName as product, orders, total, rated.rating as rating\n",
        "ORDER BY rating DESC\n",
        "RETURN company, product, orders, total, rating\n",
        "LIMIT 10"
      ]
    },
    {
      "cell_type": "code",
      "source": [
        "%%cypher\n",
        "CALL apoc.meta.graph()"
      ],
      "metadata": {
        "id": "OTm0N567Xgal"
      },
      "execution_count": null,
      "outputs": []
    },
    {
      "cell_type": "code",
      "execution_count": null,
      "metadata": {
        "id": "UFjyMwQmqylh"
      },
      "outputs": [],
      "source": [
        "%%cypher\n",
        "MATCH (me:Customer)-[r:RATED]->(p:Product)\n",
        "WHERE me.id = 'CHOPS'\n",
        "RETURN p.productName, r.rating\n",
        "limit 10"
      ]
    },
    {
      "cell_type": "markdown",
      "source": [
        "Now we can use these ratings to compare the preferences of two Customers.\n"
      ],
      "metadata": {
        "id": "cq1ORsBwqylh"
      }
    },
    {
      "cell_type": "code",
      "execution_count": null,
      "metadata": {
        "id": "AqLVr5QOqylh"
      },
      "outputs": [],
      "source": [
        "%%cypher\n",
        "// See Customer's Similar Ratings to Others\n",
        "MATCH (c1:Customer {id:'CHOPS'})-[r1:RATED]->(p:Product)<-[r2:RATED]-(c2:Customer)\n",
        "RETURN c1.id, c2.id, p.productName, r1.rating, r2.rating,\n",
        "CASE WHEN r1.rating-r2.rating < 0 THEN -(r1.rating-r2.rating) ELSE r1.rating-r2.rating END as difference\n",
        "ORDER BY difference ASC\n",
        "LIMIT 15"
      ]
    },
    {
      "cell_type": "markdown",
      "source": [
        "Now, we can create a similarity score between two Customers using Cosine Similarity"
      ],
      "metadata": {
        "id": "SeoSiP6Eqyli"
      }
    },
    {
      "cell_type": "code",
      "execution_count": null,
      "metadata": {
        "id": "-QvUlqjFqyli"
      },
      "outputs": [],
      "source": [
        "%%cypher\n",
        "MATCH (c1:Customer)-[r1:RATED]->(p:Product)<-[r2:RATED]-(c2:Customer)\n",
        "WITH\n",
        "\tSUM(r1.rating*r2.rating) as dot_product,\n",
        "\tSQRT( REDUCE(x=0.0, a IN COLLECT(r1.rating) | x + a^2) ) as r1_length,\n",
        "\tSQRT( REDUCE(y=0.0, b IN COLLECT(r2.rating) | y + b^2) ) as r2_length,\n",
        "\tc1,c2\n",
        "MERGE (c1)-[s:SIMILARITY]-(c2)\n",
        "SET s.similarity = dot_product / (r1_length * r2_length)"
      ]
    },
    {
      "cell_type": "code",
      "source": [
        "%%cypher\n",
        "CALL apoc.meta.graph()"
      ],
      "metadata": {
        "id": "PuxO1J_8eEcp"
      },
      "execution_count": null,
      "outputs": []
    },
    {
      "cell_type": "code",
      "execution_count": null,
      "metadata": {
        "id": "JNeUYDj5qyli"
      },
      "outputs": [],
      "source": [
        "%%cypher\n",
        "MATCH (me:Customer)-[r:SIMILARITY]->(them)\n",
        "WHERE me.id='CHOPS'\n",
        "RETURN me.companyName, them.companyName, r.similarity\n",
        "ORDER BY r.similarity DESC\n",
        "limit 10"
      ]
    },
    {
      "cell_type": "markdown",
      "source": [
        "Great, let&#8217;s now make a recommendation based on these similarity scores.\n"
      ],
      "metadata": {
        "id": "wzmJw5sTqyli"
      }
    },
    {
      "cell_type": "code",
      "execution_count": null,
      "metadata": {
        "id": "sAijG8uiqyli"
      },
      "outputs": [],
      "source": [
        "%%cypher\n",
        "WITH 1 as neighbours\n",
        "MATCH (me:Customer)-[:SIMILARITY]->(c:Customer)-[r:RATED]->(p:Product)\n",
        "WHERE me.id = 'CHOPS' and NOT ( (me)-[:RATED|PRODUCT|ORDER*1..2]->(p:Product) )\n",
        "WITH p, COLLECT(r.rating)[0..neighbours] as ratings, collect(c.companyName)[0..neighbours] as customers\n",
        "WITH p, customers, REDUCE(s=0,i in ratings | s+i) / SIZE(ratings) as recommendation\n",
        "ORDER BY recommendation DESC\n",
        "RETURN p.productName, recommendation\n",
        "LIMIT 10"
      ]
    },
    {
      "cell_type": "markdown",
      "source": [
        "There you have it!  Quick and simple recommendations using graph theory and Cypher.\n"
      ],
      "metadata": {
        "id": "flnJTNA2qylj"
      }
    }
  ],
  "metadata": {
    "language_info": {
      "name": "python"
    },
    "colab": {
      "name": "from-zero-to-graph-hero.ipynb",
      "provenance": [],
      "toc_visible": true,
      "collapsed_sections": [
        "5hEvLhIUCqmC"
      ],
      "include_colab_link": true
    },
    "kernelspec": {
      "name": "python3",
      "display_name": "Python 3"
    }
  },
  "nbformat": 4,
  "nbformat_minor": 0
}