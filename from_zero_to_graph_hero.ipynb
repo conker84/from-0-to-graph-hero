{
  "cells": [
    {
      "cell_type": "markdown",
      "metadata": {
        "id": "view-in-github",
        "colab_type": "text"
      },
      "source": [
        "<a href=\"https://colab.research.google.com/github/conker84/from-0-to-graph-hero/blob/main/from_zero_to_graph_hero.ipynb\" target=\"_parent\"><img src=\"https://colab.research.google.com/assets/colab-badge.svg\" alt=\"Open In Colab\"/></a>"
      ]
    },
    {
      "cell_type": "markdown",
      "source": [
        "# From zero to a graph hero\n",
        "\n",
        "In this talk we'll discuss about why graphs are important, and how we can create a simple recommendation engine starting from few CSV files.\n"
      ],
      "metadata": {
        "id": "s4rhYYo-qylU"
      }
    },
    {
      "cell_type": "markdown",
      "source": [
        "# Prerequisites \n",
        "\n",
        "Please install all the required dependencies before executing the notebook"
      ],
      "metadata": {
        "id": "Ns-kIYTj6XF4"
      }
    },
    {
      "cell_type": "code",
      "source": [
        "from google.colab import output\n",
        "output.enable_custom_widget_manager()"
      ],
      "metadata": {
        "id": "9FkLuKL5EUUr"
      },
      "execution_count": null,
      "outputs": []
    },
    {
      "cell_type": "code",
      "source": [
        "!pip install neo4j\n",
        "!pip install ipycytoscape\n",
        "!pip install networkx"
      ],
      "metadata": {
        "id": "uRsje4-hBcIa"
      },
      "execution_count": null,
      "outputs": []
    },
    {
      "cell_type": "code",
      "source": [
        "from getpass import getpass\n",
        "from neo4j import GraphDatabase\n",
        "\n",
        "neo4j_user = input('Neo4j user: ')\n",
        "neo4j_password = getpass('Neo4j password: ')\n",
        "neo4j_uri = input('Neo4j uri: ')\n",
        "\n",
        "\n",
        "neo4j_driver = GraphDatabase.driver(neo4j_uri, auth=(neo4j_user, neo4j_password))"
      ],
      "metadata": {
        "id": "BaKy3cPVCNsH"
      },
      "execution_count": null,
      "outputs": []
    },
    {
      "cell_type": "code",
      "source": [
        "import pandas as pd\n",
        "import networkx as nx\n",
        "from IPython.core.magic import (register_line_magic, register_cell_magic)\n",
        "import ipycytoscape\n",
        "from neo4j.graph import Graph\n",
        "\n",
        "colors = {\n",
        "  ':Customer': '#fffb00',\n",
        "  ':Order': '#00f900',\n",
        "  ':Product': '#ff2600',\n",
        "  ':Category': '#53d5fd'\n",
        "}\n",
        "captions =  {\n",
        "  ':Customer': 'companyName',\n",
        "  ':Order': 'shipName',\n",
        "  ':Product': 'productName',\n",
        "  ':Category': 'categoryName'\n",
        "}\n",
        "node_centered = {\n",
        "  'selector': 'node',\n",
        "  'style': {\n",
        "    'font-size': '10',\n",
        "    'label': 'data(title)',\n",
        "    'height': '60',\n",
        "    'width': '60',\n",
        "    'text-max-width': '60',\n",
        "    'text-wrap': 'wrap',\n",
        "    'text-valign': 'center',\n",
        "    'background-color': 'data(color)',\n",
        "    'background-opacity': 0.6,\n",
        "    'border-width': 3,\n",
        "    'border-color': '#D3D3D3'\n",
        "  }\n",
        "}\n",
        "edge_directed_named = {\n",
        "  'selector': 'edge',\n",
        "  'style': {\n",
        "    'font-size': '8',\n",
        "    'label': 'data(label)',\n",
        "    'line-color': '#D3D3D3',\n",
        "    'text-rotation': 'autorotate',\n",
        "    'target-arrow-shape': 'triangle',\n",
        "    'target-arrow-color': '#D3D3D3',\n",
        "    'curve-style': 'bezier',\n",
        "    'text-background-color': \"#FCFCFC\",\n",
        "    'text-background-opacity': 0.8,\n",
        "    'text-background-shape': 'rectangle',\n",
        "    'width': 'data(weight)'\n",
        "  }\n",
        "}\n",
        "my_style = [node_centered, edge_directed_named]\n",
        "\n",
        "\n",
        "def to_nextworkx(graph):\n",
        "  networkx_graph = nx.MultiDiGraph()\n",
        "\n",
        "  def add_node(node):\n",
        "    label = ':' + ':'.join(node.labels)\n",
        "    props = dict(node.items())\n",
        "    color = colors[label]\n",
        "    networkx_graph.add_node(node.id, label=label, color=color, properties=props, title=label, tooltip=str(props))\n",
        "\n",
        "\n",
        "  def add_edge(edge):\n",
        "    edge_type = edge.type\n",
        "    props = dict(edge.items())\n",
        "    networkx_graph.add_edge(edge.start_node.id, edge.end_node.id, weight=2, label=edge.type, tooltip=str(props))\n",
        "      \n",
        "  for node in graph._nodes.values():\n",
        "    add_node(node)\n",
        "\n",
        "  for rel in graph._relationships.values():\n",
        "    add_edge(rel)\n",
        "\n",
        "  return networkx_graph\n",
        "\n",
        "\n",
        "def display_graph(networkx_graph, config={'layout': 'dagre', 'padding': 0, 'nodeSpacing': 10, 'edgeLengthVal': 10, 'animate': True, 'randomize': True}):\n",
        "    w = ipycytoscape.CytoscapeWidget()\n",
        "    w.graph.add_graph_from_networkx(networkx_graph)\n",
        "    w.set_style(my_style)\n",
        "    w.set_layout(name=config['layout'],\n",
        "                 padding=config['padding'],\n",
        "                 nodeSpacing=config['nodeSpacing'],\n",
        "                 edgeLengthVal=config['edgeLengthVal'],\n",
        "                 animate=config['animate'],\n",
        "                 randomize=config['randomize'],\n",
        "                 maxSimulations=1500)\n",
        "    w.set_tooltip_source('tooltip')\n",
        "    display(w)\n",
        "\n",
        "\n",
        "def run_query(query):\n",
        "  # we return only the last one\n",
        "  with neo4j_driver.session() as session:\n",
        "    result = None\n",
        "    for sub_query in query.split(';'):\n",
        "      sub_query = sub_query.strip()\n",
        "      if sub_query != \"\":\n",
        "        result = session.run(sub_query)\n",
        "    graph = result.graph()\n",
        "    if len(graph._nodes) > 0:\n",
        "      return display_graph(to_nextworkx(graph))\n",
        "    else:\n",
        "      return result.to_df()\n",
        "\n",
        "\n",
        "@register_cell_magic\n",
        "def cypher(line, cell):\n",
        "  return run_query(cell)"
      ],
      "metadata": {
        "id": "41IZ0aSj8IQQ"
      },
      "execution_count": null,
      "outputs": []
    },
    {
      "cell_type": "markdown",
      "source": [
        "# Why are graphs important?\n",
        "\n",
        "> \"I think the next century will be the century of complexity.\" - Stephen Hawking\n",
        "\n",
        "<img src=\"https://miro.medium.com/max/1400/1*K6avHhlmtIE0dnGj7whLag.jpeg\" alt=\"Rail Network in Europe by naturalearthdata.com\">\n",
        "\n",
        "*Rail Network in Europe by naturalearthdata.com*\n",
        "\n",
        "We are surrounded by systems that are hopelessly complicated. Consider for example: \n",
        "\n",
        "* The network encoding the interactions between genes, proteins, and metabolites integrates these components into live cells. The very existence of this cellular network is a prerequisite of life.\n",
        "* The wiring diagram capturing the connections between neurons, called the neural network, holds the key to our understanding of how the brain functions and to our consciousness.\n",
        "* The sum of all professional, friendship, and family ties, often called the social network, is the fabric of the society and determines the spread of knowledge, behavior and resources.\n",
        "* Communication networks, describing which communication devices interact with each other, through wired internet connections or wireless links, are at the heart of the modern communication system.\n",
        "* The power grid, a network of generators and transmission lines, supplies with energy virtually all modern technology.\n",
        "* Trade networks maintain our ability to exchange goods and services, being responsible for the material prosperity that the world has enjoyed since WWII\n",
        "\n",
        "\n",
        "Indeed, behind each complex system there is an intricate network that encodes the interactions between the system’s components.\n",
        "\n",
        "If we want to understand a complex system, we first need to know how its components interact with each other. In other words we need a map of its wiring diagram, and that's when graph (network) came in and the network representation offers a common language to study systems that may differ greatly in nature, appearance, or scope.\n",
        "\n",
        "A graph $G$ is a structure $G=<V,E>$ where:\n",
        "* $V$ are the vertexes or nodes; to each `node` can be assigned one or more `label` (type) and a set of `properties` as key/value bindings;\n",
        "* $E$ are the edges; each `edge` has a `source` and `target` node and have a `type` and a set of `properties` as key/value bindings.\n",
        "\n",
        "<img src=\"https://raw.githubusercontent.com/conker84/from-0-to-graph-hero/main/images/person-follows-person.png\" >"
      ],
      "metadata": {
        "id": "BZ1xATyVMvag"
      }
    },
    {
      "cell_type": "markdown",
      "source": [
        "# Why do we need a Graph Database?\n",
        "\n",
        "Relational database are well suited for a lot of use case, but not where your need is to traverse the data, but why?\n",
        "\n",
        "## JOINs are expensive\n",
        "\n",
        "Without diving a lot into the problem is known that when you put in join two or more tables, the cost of each join is rough $O(log(n))$ and this means that the performances are proportionally getting worse when the table count gets higher.\n",
        "\n",
        "Graph databases instead are designed leveraging a data structure called [Adiacency Matrix](https://en.wikipedia.org/wiki/Adjacency_matrix) that is specifically designed to reduce the cost of traversing a relationship (given a start node) to $O(1)$\n",
        "\n",
        "<table>\n",
        "  <thead>\n",
        "    <th>Graph</th>\n",
        "    <th>Matrix representation</th>\n",
        "  </thead>\n",
        "  <tbody>\n",
        "    <td>\n",
        "      <img src=\"https://github.com/conker84/from-0-to-graph-hero/blob/main/images/adiacency-graph.png?raw=true\" >\n",
        "    </td>\n",
        "    <td>\n",
        "      <img src=\"https://github.com/conker84/from-0-to-graph-hero/blob/main/images/adiacency-matrix.png?raw=true\" >\n",
        "      <br/>\n",
        "      The elements of the matrix indicate whether pairs of vertices are adjacent or not in the graph.\n",
        "    </td>\n",
        "  </tbody>\n",
        "</table>\n",
        "\n"
      ],
      "metadata": {
        "id": "AjBIBuX6WrIs"
      }
    },
    {
      "cell_type": "markdown",
      "source": [
        "## How to query a Graph?\n",
        "\n",
        "Given the definition of graph and graph database above, how can you query it?\n",
        "\n",
        "[openCypher](https://opencypher.org/) (Cypher) is a language specification built to query graphs. Think about it as SQL but for Graphs!\n",
        "\n",
        "\n"
      ],
      "metadata": {
        "id": "kU-f-qYzBoB5"
      }
    },
    {
      "cell_type": "markdown",
      "source": [
        "### How does it work?\n",
        "\n",
        "Cypher has a very nice way in order to represent graphs, it leverages ASCII ART in order to do that, but how?\n",
        "\n",
        "#### Cypher and ASCII ART\n",
        "\n",
        "In Cypher:\n",
        "\n",
        "* `nodes` are represented as `()` and they can also contain identifiers `(person)`\n",
        "* `relationships` are represented as `-[]-`, they can have an identifier `-[FOLLOWS]-`, a direction `-[]->` or `<-[]-` and the must have a source and a target node `()-[]->()`\n",
        "\n",
        "Think about at this simple graph:\n",
        "\n",
        "<img src=\"https://github.com/conker84/from-0-to-graph-hero/blob/main/images/person-drives-car.png?raw=true\" >\n",
        "\n",
        "The Cypher representation of it is:\n",
        "\n",
        "`(p:Person)-[d:DRIVES]->(c:Car)`\n",
        "\n",
        "where:\n",
        "* `p` is the identifier of the source node which is of type `Person`\n",
        "* `c` is the identifier of the target node which is of type `Car`\n",
        "* `d` is the identifier of the relationship which type is `DRIVES`\n",
        "\n",
        "Given that than you can:\n",
        "\n",
        "* `CREATE` a graph entity\n",
        "* `MATCH` a graph entity\n",
        "* `MERGE` a graph entity; this one is a idempotent operation that first checks if the entity exists otherwise it creates it and return.\n",
        "\n",
        "```cypher\n",
        "MATCH path = (p:Person)-[d:DRIVES]->(c:Car)\n",
        "WHERE p.name = 'Andrea' AND p.surname = 'Santurbano'\n",
        "RETURN path\n",
        "```\n",
        "\n"
      ],
      "metadata": {
        "id": "5hEvLhIUCqmC"
      }
    },
    {
      "cell_type": "markdown",
      "source": [
        "# Dataset\n",
        "\n",
        "The Northwind database is a famous dataset containing purchase history that has been used to teach relational databases for years and was a great place to start.\n",
        "\n",
        "<img src=\"https://github.com/conker84/from-0-to-graph-hero/blob/main/images/northwind.gif?raw=true\" >\n",
        "\n",
        "It provides us with a rich dataset, but in this what we want to do is to use a subset of information in order to create a graph like this:\n",
        "\n",
        "<img src=\"https://github.com/conker84/from-0-to-graph-hero/blob/main/images/graph.png?raw=true\" />"
      ],
      "metadata": {
        "id": "TPvjmAB1Sw5W"
      }
    },
    {
      "cell_type": "code",
      "source": [
        "%%cypher\n",
        "// show that there are no constraints\n",
        "SHOW CONSTRAINTS"
      ],
      "metadata": {
        "id": "_M2aMAkKuVs9"
      },
      "execution_count": null,
      "outputs": []
    },
    {
      "cell_type": "code",
      "source": [
        "%%cypher\n",
        "// Let's create the constaints\n",
        "CREATE CONSTRAINT product_id IF NOT EXISTS FOR (p:Product) REQUIRE (p.id) IS UNIQUE;\n",
        "CREATE CONSTRAINT order_id IF NOT EXISTS FOR (o:Order) REQUIRE (o.id) IS UNIQUE;\n",
        "CREATE CONSTRAINT customer_id IF NOT EXISTS FOR (c:Customer) REQUIRE (c.id) IS UNIQUE;\n",
        "CREATE CONSTRAINT category_id IF NOT EXISTS FOR (c:Category) REQUIRE (c.id) IS UNIQUE;"
      ],
      "metadata": {
        "id": "KJUjYlhg8-Ki"
      },
      "execution_count": null,
      "outputs": []
    },
    {
      "cell_type": "code",
      "source": [
        "%%cypher\n",
        "// show that there are constraints\n",
        "SHOW CONSTRAINTS"
      ],
      "metadata": {
        "id": "gvTiUX_Mua2L"
      },
      "execution_count": null,
      "outputs": []
    },
    {
      "cell_type": "code",
      "source": [
        "%%cypher\n",
        "// just check that the database is empty\n",
        "MATCH (n)\n",
        "RETURN count(n) AS totalNodes"
      ],
      "metadata": {
        "id": "u4jNvXeLuEvH"
      },
      "execution_count": null,
      "outputs": []
    },
    {
      "cell_type": "code",
      "source": [
        "%%cypher\n",
        "// create the Customer nodes\n",
        "USING PERIODIC COMMIT 100\n",
        "LOAD CSV WITH HEADERS FROM \"https://raw.githubusercontent.com/conker84/from-0-to-graph-hero/main/data/customers.csv\" AS row\n",
        "CREATE (:Customer {id: row.customerID, companyName: row.companyName, fax: row.fax, phone: row.phone});\n",
        "\n",
        "// create the Order nodes\n",
        "USING PERIODIC COMMIT 100\n",
        "LOAD CSV WITH HEADERS FROM \"https://raw.githubusercontent.com/conker84/from-0-to-graph-hero/main/data/orders.csv\" AS row\n",
        "MERGE (o:Order {id: row.orderID}) ON CREATE SET o.shipName =  row.shipName;\n",
        "\n",
        "// create the Product nodes\n",
        "USING PERIODIC COMMIT 100\n",
        "LOAD CSV WITH HEADERS FROM \"https://raw.githubusercontent.com/conker84/from-0-to-graph-hero/main/data/products.csv\" AS row\n",
        "CREATE (:Product {productName: row.productName, id: row.productID, unitPrice: toFloat(row.UnitPrice)});\n",
        "\n",
        "// create the Category nodes\n",
        "USING PERIODIC COMMIT 100\n",
        "LOAD CSV WITH HEADERS FROM \"https://raw.githubusercontent.com/conker84/from-0-to-graph-hero/main/data/categories.csv\" AS row\n",
        "MERGE (c:Category {id: row.categoryID}) ON CREATE SET c.categoryName = row.categoryName, c.description = row.description;\n",
        "\n",
        "// create the PURCHASED relationships\n",
        "USING PERIODIC COMMIT 100\n",
        "LOAD CSV WITH HEADERS FROM \"https://raw.githubusercontent.com/conker84/from-0-to-graph-hero/main/data/orders.csv\" AS row\n",
        "MATCH (o:Order {id: row.orderID})\n",
        "MATCH (customer:Customer {id: row.customerID})\n",
        "MERGE (customer)-[:PURCHASED]->(o);\n",
        "\n",
        "// create the CONTAINS relationships\n",
        "USING PERIODIC COMMIT 100\n",
        "LOAD CSV WITH HEADERS FROM \"https://raw.githubusercontent.com/conker84/from-0-to-graph-hero/main/data/order-details.csv\" AS row\n",
        "MATCH (o:Order {id: row.orderID})\n",
        "MATCH (product:Product {id: row.productID})\n",
        "MERGE (o)-[pu:CONTAINS]->(product)\n",
        "ON CREATE SET pu.unitPrice = toFloat(row.unitPrice), pu.quantity = toFloat(row.quantity);\n",
        "\n",
        "// create the HAS relationships\n",
        "USING PERIODIC COMMIT 100\n",
        "LOAD CSV WITH HEADERS FROM \"https://raw.githubusercontent.com/conker84/from-0-to-graph-hero/main/data/products.csv\" AS row\n",
        "MATCH (product:Product {id: row.productID})\n",
        "MATCH (category:Category {id: row.categoryID})\n",
        "MERGE (product)-[:HAS]->(category);"
      ],
      "metadata": {
        "id": "tdhlCD3CTNLp"
      },
      "execution_count": null,
      "outputs": []
    },
    {
      "cell_type": "code",
      "source": [
        "%%cypher\n",
        "// just check that the database is not empty\n",
        "MATCH (n)\n",
        "RETURN count(n) AS totalNodes"
      ],
      "metadata": {
        "id": "RN01XLE-uTas"
      },
      "execution_count": null,
      "outputs": []
    },
    {
      "cell_type": "markdown",
      "source": [
        "## Check the graph model"
      ],
      "metadata": {
        "id": "4DquQ7BtP8mc"
      }
    },
    {
      "cell_type": "code",
      "source": [
        "%%cypher\n",
        "CALL apoc.meta.graph()"
      ],
      "metadata": {
        "id": "6CyW7gBLIA4p"
      },
      "execution_count": null,
      "outputs": []
    },
    {
      "cell_type": "markdown",
      "source": [
        "## Visualize a simple graph"
      ],
      "metadata": {
        "id": "SO9dRClfQCB6"
      }
    },
    {
      "cell_type": "code",
      "source": [
        "%%cypher\n",
        "MATCH (c:Customer)-[r*..2]->(a)\n",
        "WHERE c.id = 'CHOPS'\n",
        "RETURN *"
      ],
      "metadata": {
        "id": "uidJhaqSAsc2"
      },
      "execution_count": null,
      "outputs": []
    },
    {
      "cell_type": "markdown",
      "source": [
        "# Let's build a recommendation engine\n",
        "\n",
        "Recommender Systems are a type of information filtering system that seek to generate meaningful recommendations to users for items they may be interested in."
      ],
      "metadata": {
        "id": "6i59SqGHQIfU"
      }
    },
    {
      "cell_type": "markdown",
      "source": [
        "## Popular Products\n",
        "\n",
        "To find the most popular products in the dataset, we can follow the path from `:Customer` to `:Product`\n"
      ],
      "metadata": {
        "id": "HMXHpnmXqylf"
      }
    },
    {
      "cell_type": "code",
      "execution_count": null,
      "metadata": {
        "id": "JJEhS5dAqylf"
      },
      "outputs": [],
      "source": [
        "%%cypher\n",
        "// get all the customers that purchased a product\n",
        "MATCH (c:Customer)-[:PURCHASED]->(o:Order)-[:CONTAINS]->(p:Product)\n",
        "// return the company, the product and the number of times that ht bought it\n",
        "RETURN c.companyName, p.productName, count(o) as orders\n",
        "ORDER BY orders desc\n",
        "LIMIT 5"
      ]
    },
    {
      "cell_type": "markdown",
      "source": [
        "Nothing so fancy right? Let's do something more graph oriented."
      ],
      "metadata": {
        "id": "TUCMrkYMfcXZ"
      }
    },
    {
      "cell_type": "markdown",
      "source": [
        "## Content Based Recommendations\n",
        "\n",
        "The simplest recommendation we can make for a `:Customer` is a content based recommendation.\n",
        "Based on their previous purchases, can we recommend them anything that they haven't already bought?\n",
        "For every product our customer has purchased, let's see what other customers have also purchased.\n",
        "Each `:Product` is related to a `:Category`  so we can use this to further narrow down the list of products to recommend.\n",
        "\n",
        "**Does it sounds familiar?**\n",
        "\n",
        "<img src=\"https://github.com/conker84/from-0-to-graph-hero/blob/main/images/amazon-recommendations.png?raw=true\" >\n",
        "\n",
        "\n",
        "It's quite the same behind what Amazon shows you when you bought a problem and shows corralate products in the same category"
      ],
      "metadata": {
        "id": "Ryjrwvfbqylg"
      }
    },
    {
      "cell_type": "code",
      "execution_count": null,
      "metadata": {
        "id": "W7nOcaFSqylg"
      },
      "outputs": [],
      "source": [
        "%%cypher\n",
        "// For every product our customer has purchased, let's see what other customers have also purchased\n",
        "MATCH (c:Customer)-[:PURCHASED]->(o:Order)-[:CONTAINS]->(p:Product)<-[:CONTAINS]-(o2:Order)-[:CONTAINS]->(p2:Product)-[:HAS]->(:Category)<-[:HAS]-(p)\n",
        "WHERE c.id = 'CHOPS' AND NOT( (c)-[:PURCHASED]->(:Order)-[:PRODUCT]->(p2) )\n",
        "RETURN c.companyName, p.productName as has_purchased, p2.productName as has_also_purchased, count(DISTINCT o2) as occurrences\n",
        "ORDER BY occurrences desc\n",
        "LIMIT 5"
      ]
    },
    {
      "cell_type": "markdown",
      "source": [
        "There you have it!  Quick and simple recommendations using graph theory and Cypher.\n"
      ],
      "metadata": {
        "id": "flnJTNA2qylj"
      }
    },
    {
      "cell_type": "markdown",
      "source": [
        "# Lessons learned\n",
        "\n",
        "* We saw how powerful is the graph theory for describing different scenarios like neural networks, power grids, good and exchanges and so on\n",
        "* We saw why a graph database is necessary when you need to traverse data\n",
        "* We created our first graph\n",
        "* We did our first graph powered recommendation query by traversing our data.\n"
      ],
      "metadata": {
        "id": "bjVQl8Ujnqrm"
      }
    }
  ],
  "metadata": {
    "language_info": {
      "name": "python"
    },
    "colab": {
      "name": "from-zero-to-graph-hero.ipynb",
      "provenance": [],
      "toc_visible": true,
      "collapsed_sections": [
        "5hEvLhIUCqmC"
      ],
      "include_colab_link": true
    },
    "kernelspec": {
      "name": "python3",
      "display_name": "Python 3"
    }
  },
  "nbformat": 4,
  "nbformat_minor": 0
}